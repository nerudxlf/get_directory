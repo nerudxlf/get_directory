{
  "nbformat": 4,
  "nbformat_minor": 0,
  "metadata": {
    "colab": {
      "name": "main.ipynb",
      "provenance": [],
      "authorship_tag": "ABX9TyOSK/k8UbntIJ9HPx6BRUEK",
      "include_colab_link": true
    },
    "kernelspec": {
      "name": "python3",
      "display_name": "Python 3"
    }
  },
  "cells": [
    {
      "cell_type": "markdown",
      "metadata": {
        "id": "view-in-github",
        "colab_type": "text"
      },
      "source": [
        "<a href=\"https://colab.research.google.com/github/nerudxlf/get_directory/blob/main/main.ipynb\" target=\"_parent\"><img src=\"https://colab.research.google.com/assets/colab-badge.svg\" alt=\"Open In Colab\"/></a>"
      ]
    },
    {
      "cell_type": "code",
      "metadata": {
        "id": "CcLUy7KMRJpP"
      },
      "source": [
        "import pandas as pd\r\n",
        "\r\n",
        "from google.colab import files\r\n",
        "\r\n",
        "files.upload()"
      ],
      "execution_count": null,
      "outputs": []
    },
    {
      "cell_type": "code",
      "metadata": {
        "id": "AB_T2FsvV0KQ"
      },
      "source": [
        "omstu_full_df = pd.read_excel(\"2021-03-01_omstu.xlsx\")\r\n",
        "scopus_full_df = pd.read_excel(\"2021-03-01_scopus.xlsx\")\r\n",
        "wos_full_df = pd.read_excel(\"2021-03-01_wos.xlsx\")\r\n",
        "staff = pd.read_excel(\"staff.xlsx\")\r\n",
        "\r\n",
        "unnamed_list = ['Unnamed: 1', 'Unnamed: 2', 'Unnamed: 3', 'Unnamed: 5', 'Unnamed: 6', 'Unnamed: 7',\r\n",
        "                'Unnamed: 8', 'Unnamed: 9', 'Unnamed: 10', 'Unnamed: 11', 'Unnamed: 12', 'Unnamed: 13',\r\n",
        "                'Unnamed: 14', 'Unnamed: 15', 'Unnamed: 16', 'Unnamed: 17', 'Unnamed: 18', 'Unnamed: 19',\r\n",
        "                'Unnamed: 20', 'Unnamed: 21', 'Unnamed: 22']\r\n",
        "\r\n",
        "scopus_filter_id_author = scopus_full_df.filter([\"id\", \"author name\"])\r\n",
        "wos_filter_id_author = wos_full_df.filter([\"id\", \"name\"])\r\n",
        "\r\n",
        "omstu_join_scopus = pd.merge(left=omstu_full_df, right=scopus_filter_id_author, how=\"left\",\r\n",
        "                            left_on=\"scopus author id\", right_on=\"id\")\r\n",
        "\r\n",
        "omstu_join_scopus_wos = pd.merge(left=omstu_join_scopus, right=wos_filter_id_author, how=\"left\",\r\n",
        "                                left_on=\"researcher id\", right_on=\"id\")\r\n",
        "\r\n",
        "omstu_join_scopus_wos[\"ФИО\"] = omstu_join_scopus_wos[omstu_join_scopus_wos.columns[0:3]].apply(\r\n",
        "    lambda x: \" \".join(x.dropna().astype(str)), axis=1)\r\n",
        "\r\n",
        "omstu_join_scopus_wos.drop(['name_x', 'surname', 'patronymic', 'position', 'faculty', 'department', 'id_x', 'id_y'],\r\n",
        "                          axis=1, inplace=True)\r\n",
        "\r\n",
        "omstu_join_scopus_wos.rename(columns={\"author name\": \"name in scopus\", \"name_y\": \"name in wos\"}, inplace=True)\r\n",
        "\r\n",
        "df_result_staff_and_omstu = pd.merge(left=staff, right=omstu_join_scopus_wos, how=\"left\", left_on=\"Сотрудник\",\r\n",
        "                                    right_on=\"ФИО\")\r\n",
        "\r\n",
        "df_result_staff_and_omstu.drop(unnamed_list, axis=1, inplace=True)\r\n",
        "df_result_staff_and_omstu.to_excel(\"result.xlsx\", index=None)"
      ],
      "execution_count": null,
      "outputs": []
    }
  ]
}